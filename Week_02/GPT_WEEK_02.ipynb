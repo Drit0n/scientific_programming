{
 "cells": [
  {
   "cell_type": "markdown",
   "metadata": {},
   "source": [
    "SW-05: Arbeiten mit Datentypen und Datenstrukturen in Python\n",
    "Inhalt:\n",
    "Verwendung von Listen, Tupeln, Dictionaries und Sets.\n",
    "Eigenschaften und Anwendungsfälle der verschiedenen Datenstrukturen."
   ]
  },
  {
   "cell_type": "code",
   "execution_count": 1,
   "metadata": {},
   "outputs": [
    {
     "name": "stdout",
     "output_type": "stream",
     "text": [
      "Hallo Welt\n"
     ]
    }
   ],
   "source": [
    "# Hallo Welt Programm\n",
    "print(\"Hallo Welt\")\n",
    "\n",
    "# Grundlegende Datentypen\n",
    "int_variable = 42\n",
    "float_variable = 3.14\n",
    "string_variable = \"Python\"\n",
    "list_variable = [1, 2, 3, 4, 5]\n",
    "dict_variable = {\"Name\": \"Alice\", \"Alter\": 25}\n"
   ]
  }
 ],
 "metadata": {
  "kernelspec": {
   "display_name": "base",
   "language": "python",
   "name": "python3"
  },
  "language_info": {
   "codemirror_mode": {
    "name": "ipython",
    "version": 3
   },
   "file_extension": ".py",
   "mimetype": "text/x-python",
   "name": "python",
   "nbconvert_exporter": "python",
   "pygments_lexer": "ipython3",
   "version": "3.11.7"
  }
 },
 "nbformat": 4,
 "nbformat_minor": 2
}
