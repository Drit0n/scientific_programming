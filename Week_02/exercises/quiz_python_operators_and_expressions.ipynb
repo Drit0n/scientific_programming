{
 "cells": [
  {
   "attachments": {},
   "cell_type": "markdown",
   "id": "885d48f8",
   "metadata": {},
   "source": [
    "<table width=\"100%\" height=\"50%\">\n",
    "    <tr>\n",
    "        <td width=\"20%\">\n",
    "        <img src=\"00_img_ipynb/python_quiz.jpeg\" alt=\"\" width=\"100%\"  align=\"left\">\n",
    "        </td>\n",
    "        <td style=\"text-align: left\">\n",
    "        <font size=\"6\"><b>Quiz: Operators and Expressions in Python</b></font>\n",
    "        </td>\n",
    "    </tr>\n",
    "</table>"
   ]
  },
  {
   "cell_type": "markdown",
   "id": "815b3177",
   "metadata": {},
   "source": [
    "## 1.) What is the output of the following code?\n"
   ]
  },
  {
   "cell_type": "markdown",
   "id": "809199be",
   "metadata": {},
   "source": [
    "\n",
    "```python\n",
    "print(10 - 4 * 2)\n",
    "```\n",
    "##### a) 2\n"
   ]
  },
  {
   "cell_type": "code",
   "execution_count": 1,
   "id": "ca19e905",
   "metadata": {},
   "outputs": [
    {
     "name": "stdout",
     "output_type": "stream",
     "text": [
      "2\n"
     ]
    }
   ],
   "source": [
    "print(10 - 4 * 2)"
   ]
  },
  {
   "cell_type": "markdown",
   "id": "3ca845f6",
   "metadata": {},
   "source": [
    "## 2.) What is the output of the following bitwise operators?\n",
    "\n",
    "```python\n",
    "a = 60         # 60 = 0011 1100 \n",
    "b = 13         # 13 = 0000 1101 \n",
    "print(a & b)\n",
    "```\n",
    "##### a) 10\n",
    "##### b) 12 \"Solution\"\n",
    "##### c) 14\n",
    "##### d) 16"
   ]
  },
  {
   "cell_type": "code",
   "execution_count": 2,
   "id": "0ab53fc8",
   "metadata": {},
   "outputs": [
    {
     "name": "stdout",
     "output_type": "stream",
     "text": [
      "12\n"
     ]
    }
   ],
   "source": [
    "a = 60 \n",
    "b = 13\n",
    "print(a & b) "
   ]
  },
  {
   "cell_type": "markdown",
   "id": "55cdb857",
   "metadata": {},
   "source": [
    "  0  0   0   0  1   1   0   0 \n",
    "128 64  32  16  8   4   2   1\n",
    "\n"
   ]
  },
  {
   "cell_type": "markdown",
   "id": "20f4150e",
   "metadata": {},
   "source": [
    "## 3.) What is the output of the following code?\n",
    "\n",
    "```python\n",
    "x = 100\n",
    "y = 50\n",
    "z = 20\n",
    "print(x > y and y < z)\n",
    "```\n",
    "##### a) True \n",
    "##### c) False \"Solution\""
   ]
  },
  {
   "cell_type": "code",
   "execution_count": 3,
   "id": "e00c891a",
   "metadata": {},
   "outputs": [
    {
     "name": "stdout",
     "output_type": "stream",
     "text": [
      "False\n"
     ]
    }
   ],
   "source": [
    "x = 100\n",
    "y = 50  \n",
    "z = 20\n",
    "print(x > y and y < z) # False  wieso? 100 > 50 und 50 < 20 ist beides falsch"
   ]
  },
  {
   "cell_type": "markdown",
   "id": "b5d68f8f",
   "metadata": {},
   "source": [
    "100 > 50 & 50 < 20"
   ]
  },
  {
   "cell_type": "markdown",
   "id": "5a64327a",
   "metadata": {},
   "source": [
    "## 4.) What is the output of the following expression?\n",
    "\n",
    "```python\n",
    "print(-18 // 4)\n",
    "```\n",
    "##### a)  -4\n",
    "##### b)  4\n",
    "##### c)  -5 \"Solution\"\n",
    "##### d)  5"
   ]
  },
  {
   "cell_type": "code",
   "execution_count": 4,
   "id": "07598475",
   "metadata": {},
   "outputs": [
    {
     "name": "stdout",
     "output_type": "stream",
     "text": [
      "-5\n"
     ]
    }
   ],
   "source": [
    "print(-18 // 4) # -5    wieso -5 und nicht -4?  weil -4.5 abgerundet wird"
   ]
  },
  {
   "cell_type": "markdown",
   "id": "c162e74d",
   "metadata": {},
   "source": [
    "## 5.) What is the output of the following expression?\n",
    "\n",
    "```python\n",
    "print(2%6)\n",
    "```\n",
    "##### a) ValueError\n",
    "##### b) 0.33\n",
    "##### c) 2 \"Solution\"\n",
    "##### d) 12"
   ]
  },
  {
   "cell_type": "code",
   "execution_count": 5,
   "id": "f81fd0f1",
   "metadata": {},
   "outputs": [
    {
     "name": "stdout",
     "output_type": "stream",
     "text": [
      "2\n"
     ]
    }
   ],
   "source": [
    "print(2%6) #  2    6/2 = 3 remainder 0  6/3 = 2 remainder 0  6/4 = 1 remainder 2  6/5 = 1 remainder 1  6/6 = 1 remainder 0"
   ]
  },
  {
   "attachments": {},
   "cell_type": "markdown",
   "id": "b6f44766",
   "metadata": {},
   "source": [
    "## 6.) What is the output of the following expression?\n",
    "\n",
    "```python\n",
    "a = [10, 20]\n",
    "b = a\n",
    "b += [30, 40]\n",
    "a += [50, 60]\n",
    "print(b)\n",
    "```\n",
    "##### a) [10,20]\n",
    "##### b) [10,20,30,40]\n",
    "##### c) [10,20,30,40,50,60] \"Solution\"\n",
    "##### d) [30,40]"
   ]
  },
  {
   "cell_type": "code",
   "execution_count": 6,
   "id": "296d5468",
   "metadata": {},
   "outputs": [
    {
     "name": "stdout",
     "output_type": "stream",
     "text": [
      "[10, 20, 30, 40, 50, 60]\n"
     ]
    }
   ],
   "source": [
    "a = [10, 20]  \n",
    "b = a   #b ist eine Referenz auf a [10, 20]\n",
    "b += [30, 40]  #b ist eine Referenz auf a d.h array-werte wird hinzugefügt [10,20,30,40]\n",
    "a += [50, 60]  #a wird verändert d.h array-werte wird hinzugefügt [10, 20, 30, 40, 50, 60]\n",
    "print(b)"
   ]
  },
  {
   "cell_type": "markdown",
   "id": "b66f0e8e",
   "metadata": {},
   "source": [
    "## 7.) What is the output of the following expression?\n",
    "\n",
    "```python\n",
    "print(36 / 4)\n",
    "```\n",
    "##### a) 9.0 \n",
    "##### b) 9"
   ]
  },
  {
   "cell_type": "code",
   "execution_count": 7,
   "id": "2d991a86",
   "metadata": {},
   "outputs": [
    {
     "name": "stdout",
     "output_type": "stream",
     "text": [
      "9.0\n"
     ]
    }
   ],
   "source": [
    "print(36 / 4) #wieso 9.0 und nicht 9?   36 ist eine float zahl und 4 ist eine integer zahl. Das Ergebnis ist eine float zahl"
   ]
  },
  {
   "cell_type": "markdown",
   "id": "00987705",
   "metadata": {},
   "source": [
    "## 8.) What is the output of the following expression?\n",
    "\n",
    "```python\n",
    "x = 5\n",
    "x += 3\n",
    "print(x)\n",
    "```\n",
    "##### a) 5\n",
    "##### b) 8 \"Solution\"\n",
    "##### c) 3\n",
    "##### d) SyntaxError"
   ]
  },
  {
   "cell_type": "code",
   "execution_count": 8,
   "id": "abf7478c",
   "metadata": {},
   "outputs": [
    {
     "name": "stdout",
     "output_type": "stream",
     "text": [
      "8\n"
     ]
    }
   ],
   "source": [
    "x = 5\n",
    "x += 3\n",
    "print(x)"
   ]
  },
  {
   "cell_type": "markdown",
   "id": "beb12758",
   "metadata": {},
   "source": [
    "## 9.) What is the output of the following expression?\n",
    "\n",
    "```python\n",
    "x = 10\n",
    "y = 50\n",
    "if x ** 2 > 100 and y < 100:\n",
    "    print(x, y)\n",
    "```\n",
    "##### a) 100 500\n",
    "##### b) 10 50\n",
    "##### c) No output \" Solution\"\n",
    "##### d) False"
   ]
  },
  {
   "cell_type": "code",
   "execution_count": 9,
   "id": "5690386d",
   "metadata": {},
   "outputs": [],
   "source": [
    "x = 10\n",
    "y = 50\n",
    "if x ** 2 > 100 and y < 100:\n",
    "    print(x, y) # Wieso wird nichts ausgegeben?  x^2 = 100 und 100 > 100 ist falsch und y < 100 ist auch falsch"
   ]
  },
  {
   "cell_type": "markdown",
   "id": "f7ab606d",
   "metadata": {},
   "source": [
    "## 10.) What is the output of the following expression?\n",
    "\n",
    "```python\n",
    "x = 6\n",
    "y = 2\n",
    "print(x ** y)\n",
    "print(x // y)\n",
    "```\n",
    "##### a) 66 | 0\n",
    "##### b) 36 | 0\n",
    "##### c) 66 | 3\n",
    "##### d) 36 | 3 \"Solution\""
   ]
  },
  {
   "cell_type": "code",
   "execution_count": 10,
   "id": "d1cca475",
   "metadata": {},
   "outputs": [
    {
     "name": "stdout",
     "output_type": "stream",
     "text": [
      "36\n",
      "3\n"
     ]
    }
   ],
   "source": [
    "x = 6\n",
    "y = 2\n",
    "print(x ** y) # 36 weiso 36 und nicht 12?  6^2 = 36 \n",
    "print(x // y) # 3  wieso 3 und nicht 2?  6/2 = 3"
   ]
  },
  {
   "cell_type": "markdown",
   "id": "03693414",
   "metadata": {},
   "source": [
    "## 11.) What is the output of the following expression?\n",
    "\n",
    "```python\n",
    "x = 5\n",
    "y = 3\n",
    "print(x != y)\n",
    "```\n",
    "##### a) True \"Solution\"\n",
    "##### b) False\n",
    "##### c) true\n",
    "##### d) false"
   ]
  },
  {
   "cell_type": "code",
   "execution_count": 11,
   "id": "d31ee85e",
   "metadata": {},
   "outputs": [
    {
     "name": "stdout",
     "output_type": "stream",
     "text": [
      "True\n"
     ]
    }
   ],
   "source": [
    "x = 5\n",
    "y = 3\n",
    "print(x != y) # True  wieso True und nicht False?  5 ist nicht gleich 3 \n",
    "                #Unterschied zwischen True und true?  True ist ein boolean wert und true ist ein string"
   ]
  },
  {
   "cell_type": "markdown",
   "id": "5703dac2",
   "metadata": {},
   "source": [
    "## 12.) What is the output of the following expression?\n",
    "\n",
    "```python\n",
    "x = 5\n",
    "print(not(x > 3 and x < 10))\n",
    "```\n",
    "##### a) True\n",
    "##### b) False \"Solution\""
   ]
  },
  {
   "cell_type": "code",
   "execution_count": 12,
   "id": "d219bfab",
   "metadata": {},
   "outputs": [
    {
     "name": "stdout",
     "output_type": "stream",
     "text": [
      "False\n"
     ]
    }
   ],
   "source": [
    "x = 5\n",
    "print(not(x > 3 and x < 10)) # False  wieso False und nicht True?  5 ist grösser als 3 und 5 ist kleiner als 10 \n",
    "                             #not macht das Gegenteil von dem was in der Klammer steht"
   ]
  }
 ],
 "metadata": {
  "kernelspec": {
   "display_name": "spenv",
   "language": "python",
   "name": "python3"
  },
  "language_info": {
   "codemirror_mode": {
    "name": "ipython",
    "version": 3
   },
   "file_extension": ".py",
   "mimetype": "text/x-python",
   "name": "python",
   "nbconvert_exporter": "python",
   "pygments_lexer": "ipython3",
   "version": "3.11.5"
  },
  "vscode": {
   "interpreter": {
    "hash": "e88d0147854d95637bfda66d71c1971db493e0eba7c923c8e835cc4382a02720"
   }
  }
 },
 "nbformat": 4,
 "nbformat_minor": 5
}
