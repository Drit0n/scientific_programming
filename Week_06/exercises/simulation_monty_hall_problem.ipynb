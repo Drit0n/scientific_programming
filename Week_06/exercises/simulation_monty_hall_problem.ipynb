{
 "cells": [
  {
   "attachments": {},
   "cell_type": "markdown",
   "metadata": {},
   "source": [
    "# Simulating the Monty Hall problem (germ. 'Das Ziegenproblem')"
   ]
  },
  {
   "attachments": {},
   "cell_type": "markdown",
   "metadata": {},
   "source": [
    "<img src=\"https://mathematicalmysteries.files.wordpress.com/2021/12/04615-0sxvwbnzvvnhuklug.png\" alt=\"\" width=\"25%\" align=\"left\">"
   ]
  },
  {
   "attachments": {},
   "cell_type": "markdown",
   "metadata": {},
   "source": [
    "## Libraries and settings"
   ]
  },
  {
   "cell_type": "code",
   "execution_count": 1,
   "metadata": {},
   "outputs": [],
   "source": [
    "# Libraries\n",
    "import os\n",
    "import random\n",
    "import matplotlib.pyplot as plt\n",
    "\n",
    "# Background color of graphics\n",
    "# plt.style.use('dark_background')\n",
    "\n",
    "# Ignore warnings\n",
    "import warnings\n",
    "warnings.filterwarnings('ignore')\n",
    "\n",
    "# Show current working directory\n",
    "#print(os.getcwd())"
   ]
  },
  {
   "attachments": {},
   "cell_type": "markdown",
   "metadata": {},
   "source": [
    "## Python implementation of the simulation"
   ]
  },
  {
   "attachments": {},
   "cell_type": "markdown",
   "metadata": {},
   "source": [
    "### Functions for trials"
   ]
  },
  {
   "cell_type": "code",
   "execution_count": 2,
   "metadata": {},
   "outputs": [],
   "source": [
    "# Function for running single trial\n",
    "def run_trial(switch_doors, ndoors=3):\n",
    "    \"\"\"\n",
    "    Run a single trial of the Monty Hall problem, with or without switching\n",
    "    after the gameshow host reveals a goat behind one of the unchosen doors.\n",
    "    The value of switch_doors is True or False. The car is behind door number 1 \n",
    "    and the gameshow host knows that.\n",
    "    \"\"\"\n",
    "\n",
    "    # Pick a random door out of the ndoors available\n",
    "    chosen_door = random.randint(1, ndoors)\n",
    "\n",
    "    if switch_doors == True:\n",
    "\n",
    "        # Reveal a goat\n",
    "        revealed_door = 3 if chosen_door == 2 else 2\n",
    "\n",
    "        # Make the switch by choosing any other door than the initially-\n",
    "        # selected one and the one just opened to reveal a goat.\n",
    "        available_doors = [dnum for dnum in range(1, ndoors + 1)\n",
    "                           if dnum not in (chosen_door, revealed_door)]\n",
    "\n",
    "        chosen_door = random.choice(available_doors)\n",
    "\n",
    "    # You win if you picked door number 1\n",
    "    return chosen_door == 1\n",
    "\n",
    "# Function for running multiple trials\n",
    "\n",
    "\n",
    "def run_trials(ntrials, switch_doors, ndoors=3):\n",
    "    \"\"\"\n",
    "    Run ntrials iterations of the Monty Hall problem with ndoors doors, with\n",
    "    and without switching (switch_doors = True or False). Returns the number\n",
    "    of trials which resulted in winning the car by picking door number 1.\n",
    "    \"\"\"\n",
    "    nwins = 0\n",
    "    for i in range(ntrials):\n",
    "        if run_trial(switch_doors, ndoors):\n",
    "            nwins += 1\n",
    "    return nwins"
   ]
  },
  {
   "attachments": {},
   "cell_type": "markdown",
   "metadata": {},
   "source": [
    "### Simulation (single trial)"
   ]
  },
  {
   "cell_type": "code",
   "execution_count": 3,
   "metadata": {},
   "outputs": [
    {
     "name": "stdout",
     "output_type": "stream",
     "text": [
      "The car is behind door: 1\n",
      "Your original choice was door: 3\n",
      "The gameshow host reveals a goat behind door: 2\n",
      "You switched to door: 1\n",
      "\n",
      "Congratulations, you are the winner!!!\n"
     ]
    }
   ],
   "source": [
    "# Total number of doors (fix)\n",
    "ndoors = 3\n",
    "\n",
    "# The door with the main price (car)\n",
    "car_door = 1\n",
    "print(f'The car is behind door: {car_door}')\n",
    "\n",
    "# You original choice of door\n",
    "chosen_door = random.randint(1, 3)\n",
    "print(f'Your original choice was door: {chosen_door}')\n",
    "\n",
    "# Your choice to switch the door (can be True or False)\n",
    "switch_doors = True\n",
    "\n",
    "################################################################################\n",
    "# Simulation\n",
    "if switch_doors:\n",
    "    \n",
    "    # Reveal a goat\n",
    "    revealed_door = 3 if chosen_door == 2 else 2\n",
    "    print(f'The gameshow host reveals a goat behind door: {revealed_door}')\n",
    "    \n",
    "    # Make the switch by choosing any other door than the initially-\n",
    "    # selected one and the one just opened to reveal a goat. \n",
    "    available_doors = [dnum for dnum in range(1, ndoors + 1)\n",
    "                            if dnum not in (chosen_door, revealed_door)]\n",
    "        \n",
    "    finally_chosen_door = random.choice(available_doors)\n",
    "    print(f'You switched to door: {finally_chosen_door}')\n",
    "    \n",
    "else:\n",
    "     \n",
    "    finally_chosen_door = chosen_door\n",
    "    print(f'You don\\'t switched and remain with door: {finally_chosen_door}')\n",
    "    \n",
    "################################################################################\n",
    "# Result\n",
    "if car_door == finally_chosen_door:\n",
    "    print('\\nCongratulations, you are the winner!!!')\n",
    "else:\n",
    "    print('\\nSorry, there is only a goat waiting for you!')\n"
   ]
  },
  {
   "attachments": {},
   "cell_type": "markdown",
   "metadata": {},
   "source": [
    "### Simulation (multiple trials)"
   ]
  },
  {
   "cell_type": "code",
   "execution_count": 4,
   "metadata": {},
   "outputs": [
    {
     "name": "stdout",
     "output_type": "stream",
     "text": [
      "Monty Hall Problem with 3 doors\n",
      "Proportion of wins without switching: 33.3%\n",
      "Proportion of wins with switching: 66.7%\n"
     ]
    },
    {
     "data": {
      "image/png": "[encoded data removed]",
      "text/plain": [
       "<Figure size 400x400 with 1 Axes>"
      ]
     },
     "metadata": {},
     "output_type": "display_data"
    }
   ],
   "source": [
    "# Parameter settings\n",
    "ndoors, ntrials = 3, 1000000\n",
    "\n",
    "# Simulation\n",
    "nwins_without_switch = run_trials(ntrials, False, ndoors)\n",
    "nwins_with_switch = run_trials(ntrials, True, ndoors)\n",
    "\n",
    "# Print results\n",
    "print(f'Monty Hall Problem with {ndoors} doors')\n",
    "print(f'Proportion of wins without switching: {nwins_without_switch/ntrials*100:.1f}%')\n",
    "print(f'Proportion of wins with switching: {nwins_with_switch/ntrials*100:.1f}%')\n",
    "\n",
    "# Graphic\n",
    "labels = ['% lost', '% won']\n",
    "sizes = [round(nwins_without_switch/ntrials*100, 1), round(nwins_with_switch/ntrials*100, 1)]\n",
    "fig, ax = plt.subplots(figsize=(4,4))\n",
    "ax.pie(sizes, \n",
    "       labels=labels,\n",
    "       autopct='%1.1f%%', \n",
    "       startangle=90,\n",
    "       colors=['orange', 'green'])\n",
    "ax.set_title(f'% Won and Lost ({ntrials:,} trials)', fontsize=12)\n",
    "plt.show()"
   ]
  },
  {
   "attachments": {},
   "cell_type": "markdown",
   "metadata": {},
   "source": [
    "### Jupyter notebook --footer info-- (please always provide this at the end of each notebook)"
   ]
  },
  {
   "cell_type": "code",
   "execution_count": 5,
   "metadata": {},
   "outputs": [
    {
     "name": "stdout",
     "output_type": "stream",
     "text": [
      "-----------------------------------\n",
      "NT\n",
      "Windows | 10\n",
      "Datetime: 2024-04-17 12:05:14\n",
      "Python Version: 3.11.7\n",
      "-----------------------------------\n"
     ]
    }
   ],
   "source": [
    "import os\n",
    "import platform\n",
    "import socket\n",
    "from platform import python_version\n",
    "from datetime import datetime\n",
    "\n",
    "print('-----------------------------------')\n",
    "print(os.name.upper())\n",
    "print(platform.system(), '|', platform.release())\n",
    "print('Datetime:', datetime.now().strftime(\"%Y-%m-%d %H:%M:%S\"))\n",
    "print('Python Version:', python_version())\n",
    "print('-----------------------------------')"
   ]
  }
 ],
 "metadata": {
  "kernelspec": {
   "display_name": "spenv01",
   "language": "python",
   "name": "python3"
  },
  "language_info": {
   "codemirror_mode": {
    "name": "ipython",
    "version": 3
   },
   "file_extension": ".py",
   "mimetype": "text/x-python",
   "name": "python",
   "nbconvert_exporter": "python",
   "pygments_lexer": "ipython3",
   "version": "3.11.7"
  },
  "orig_nbformat": 4,
  "vscode": {
   "interpreter": {
    "hash": "753606542562d4b4f861ef551497ea5847b855bb001d4992fcd57a87491f6a65"
   }
  }
 },
 "nbformat": 4,
 "nbformat_minor": 2
}
