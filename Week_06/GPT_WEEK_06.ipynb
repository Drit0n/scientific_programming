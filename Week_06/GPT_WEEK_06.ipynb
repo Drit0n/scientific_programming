{
 "cells": [
  {
   "cell_type": "markdown",
   "metadata": {},
   "source": [
    "SW-06: Bedingte Anweisungen, Kontrollstrukturen und Schleifen\n",
    "Inhalt:\n",
    "Verwendung von if-Bedingungen, for- und while-Schleifen.\n",
    "Kontrollstrukturen zur Steuerung des Programmflusses."
   ]
  },
  {
   "cell_type": "code",
   "execution_count": 1,
   "metadata": {},
   "outputs": [
    {
     "name": "stdout",
     "output_type": "stream",
     "text": [
      "Die Zahl ist größer als 5\n",
      "0\n",
      "1\n",
      "2\n",
      "3\n",
      "4\n",
      "0\n",
      "1\n",
      "2\n",
      "3\n",
      "4\n"
     ]
    }
   ],
   "source": [
    "# If-Bedingung\n",
    "zahl = 10\n",
    "if zahl > 5:\n",
    "    print(\"Die Zahl ist größer als 5\")\n",
    "else:\n",
    "    print(\"Die Zahl ist kleiner oder gleich 5\")\n",
    "\n",
    "# For-Schleife\n",
    "for i in range(5):\n",
    "    print(i)\n",
    "\n",
    "# While-Schleife\n",
    "count = 0\n",
    "while count < 5:\n",
    "    print(count)\n",
    "    count += 1\n"
   ]
  }
 ],
 "metadata": {
  "kernelspec": {
   "display_name": "base",
   "language": "python",
   "name": "python3"
  },
  "language_info": {
   "codemirror_mode": {
    "name": "ipython",
    "version": 3
   },
   "file_extension": ".py",
   "mimetype": "text/x-python",
   "name": "python",
   "nbconvert_exporter": "python",
   "pygments_lexer": "ipython3",
   "version": "3.11.7"
  }
 },
 "nbformat": 4,
 "nbformat_minor": 2
}
