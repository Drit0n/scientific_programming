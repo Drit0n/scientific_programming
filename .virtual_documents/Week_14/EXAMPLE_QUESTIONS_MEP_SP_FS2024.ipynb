














x = (25 // 2) + (3 / 1.5) * (4**3) * (19 % 3)
print(x)

# Individual results:
print('-----')
print(25 // 2) # floor devision, divides two numbers and rounds the result down to the nearest integer
print(3 / 1.5) # devision
print(4**3) # exponentiation, the same like 4x4x4
print(19 % 3) # modulo operator, returns the remainder of dividing the left hand operand by right hand operand








var1 = 36
var2 = 32
var3 = len('MY PET IS A DOG!')
print(var1 > 100 and var3 < 20 or var2 > var1, var1 != var3, var1 == var2 + 4)

# Explanations:
# len() returns the length of the string including empty spaces
# 'and' returns True if both conditions are True
# 'or' returns True if one of both conditions are True
# > returns True if the left value is larger than the right value
# < returns True if the left value is smaller than the right value
# != returns True if the left value is not equal to the right value
# == returns True if the left value equals the right value








# as = (12 / 6) + (20 // 5) + (17 % 2)
# print(as)

# Note that this code raises an error!

# Explanation: because 'as' is a reserved word (= keyword) in Python it cannot be used as a variable name.








a = 8
b = 6
a += 10
b **= 2
c = a + b
print(c)

# Explanation
# a += 10 is equal to a = a + 10 which gives 18 here
# b **= 2 is equal to b = b**2 which gives 36 here
# c = 18 + 36 = 54








a = 100
b = 240
c = 120
print(not(a >= 100 and b <= 200), b == c*2, b != c*2)
print('-----')

# Explanation:
# (a >= 100 and b <= 200) returns False because b is not <= 200
print((a >= 100 and b <= 200))
# not(a >= 100 and b <= 200) returns the oposite of False which is True
print(not(a >= 100 and b <= 200))
# The operator == means 'equal', because b is equal to c*2 this returns True
print(b == c*2)
# The operator != means 'not equal', because b is equal to c*2 this returns False
print(b != c*2)











var1 = isinstance(122.5, float)
var2 = 'my' + ' yellow' + ' dog'
var3 = 7.14 / 2
var4 = not(True == False)
var5 = 75
var6 = str(int(float(250.4)))
var7 = 499 < 500

print(type(var1),type(var2),type(var3),type(var4),type(var5),type(var6),type(var7))

# Explanation:
# type returs the type
# isinstance(122.5, float) asks whether 122.5 is an instance of a floating point number








print(bool(3.14159), bool(""), bool('cat'), bool(-42.0), bool(144/12), bool(False))
print('----------')

# Explanation:
# When using bool(), the following expressions always evaluate to False:
print(bool(False))
print(bool(None))
print(bool(0))
print(bool(""))
print(bool(()))
print(bool([]))
print(bool({}))








obj = ({1,2,3}, [4,5,6], ('dog', 3.14, '6.28'), {'a':'1', 'b':'2', 'c':'3'})
print(type(obj[3]))
print('----------')

# Explanation:
# obj is a tuple which contains a set, a lists, a tuple and a dictionary
print(type(obj))
print(type(obj[0]))
print(type(obj[1]))
print(type(obj[2]))
print(type(obj[3]))
print('----------')

# Explanation:
# If you ask for the type of a single element of the tuple it gives the type of this single element
print(type(obj[3]))








mydict = {'dog':['Hasso','Benno','Blue'], 'age':[8,6,4], 'color':['brown','yellow','blue']}
print(list(mydict.values())[0])








mydict = {'dog':['Hasso','Benno','Blue'], 'age':[8,6,4], 'color':['brown','yellow','blue']}
mydict.update({"age": [[9,7,5]]})
mydict

# Explanation: 
# In this example .update() overwrites the values of the key 'age' because the key 'age' is already included in the dict. 








marks = {'Physics':67, 'Maths':87}
internal_marks = {'Practical':48}

marks.update(internal_marks)
print(marks)

# Explanation: 
# In this example .update() extents the dictionary because the key 'Practical' does not exist in the dict.











pets = ['dogs', 'cats']
weight = [10.9, 4.4567]
print(f'The weight of {pets[1]} is {weight[1]:2.1f} kg, the weight of {pets[0]} is {weight[0]:2.0f} kg.')








# Generate a .csv-file
import csv
import numpy as np

colnames = ['Pet','Name','Color', 'Age']  
values = [ ['Cat','Kitty','Gray', '2'], 
         ['Dog','Benno','Brown', '4'],  
         ['Cat','Peter','White', '8'], 
         ['Dog','Benno','Brown', '4'],
         ['Cat', 'Trixy', 'Red', np.NAN]] 
with open('pet_data.csv', 'w', encoding='utf-8') as f:
    write = csv.writer(f, delimiter=';') 
    write.writerow(colnames) 
    write.writerows(values)

# Read the .csv-file
import pandas as pd
df = pd.read_csv('pet_data.csv', sep=";", encoding='utf-8')
df

# Tip:
# Note that the separator can also be a semicolon, a tab, an empty space, etc.
# Note that there are other character encodings like 'latin1'.








import pandas as pd
data = pd.read_csv('pet_data.csv', sep=";", encoding='utf-8')

# Subset of the data frame
subset = data.dropna().drop_duplicates().loc[(data.Age >= 4) | (data.Pet != 'Cat')]
print(list(subset.Name))

# Explanation:
# dropna() removes the missing values, here the row with cat Trixy.
# drop_duplicates() removes the duplicated values, here one row with dog Benno.
# loc[(data.Age >= 4) | (data.Pet != 'Cat') reduces the data to the pets with the respective age and pet (cat, dog)
# The | means 'or' so either the age is >= 4 years or the pet is unequal a cat meaning a 'dog'








import pandas as pd
data = pd.DataFrame({
        'Pet': ['Cat', 'Dog', 'Cat', 'Dog'],
        'Age': [4, 10, 6, 8]
        })

print(data.groupby(by='Pet').Age.mean())

# Explanation:
# groupby(by='Pet') groups the data by the variable Pet
# Age.mean() calculates the mean of the variable Age for each Pet (Cats and Dogs)








import pandas as pd
data = pd.DataFrame({
        'Pet': ['Cat', 'Dog', 'Cat', 'Dog'],
        'Name': ['Kitty', 'Doggy', 'Catty', 'Lilly'],
        'Age': [4, 10, 6, 8],
        'Color':['Black', 'Red', 'Brown', 'Creme']
        })

print(data.iloc[[2],[1,2]])

# Answer: Columns Name and Age with values 'Catty' and 6.

# Explanation: 
# iloc[] can be used to subset a pandas data frame using row and column indices.
# within the iloc statement, the [2] is the index of the rows meaning the 3rd row (it startes with zero)
# within the iloc statement, the [1,2] is the index of the columns meaning the 2nd and 3rd column (it startes with zero)








lst = [300, 400, 500, 100, 500]
lst_new = [x/2 for x in lst]
print(f"The element we are looking for is: {lst_new[0]:.2f}")

# Explanation:
# lst is a list
# lst_new (list comprehension) provides: [150.0, 200.0, 250.0, 50.0, 250.0]
# lst_new[0] is the first element of lst_new which is 150.0
# {lst_new[0]:.2f} formats the lst_new[0] using 2 decimal places
# f"The element we are looking for is: {lst_new[0]:.2f}" is an f-string
# The result is 'The element we are looking for is: 150.00'








import sqlite3
import pandas as pd

# 1st data frame
df1 = data = pd.DataFrame({
        'Id': [1, 2, 3, 4],
        'Pet': ['Cat', 'Dog', 'Cat', 'Dog'],
        'Name': ['Kitty', 'Doggy', 'Catty', 'Lilly'],
        })

# 2nd data frame
df2 = data = pd.DataFrame({
        'Id': [1, 2, 3, 4],
        'Age': [4, 10, 6, 8],
        'Color':['Black', 'Red', 'Brown', 'Creme']
        })

# Connection to db
conn = sqlite3.connect("pets.db")

# Write data to database
df1.to_sql('pet01', conn, if_exists='replace')
df2.to_sql('pet02', conn, if_exists='replace')

# Define SQL-query
sql_query = """SELECT
                T1.Id,
                T1.Pet,
                T1.Name,
                T2.Age,
                T2.Color
                FROM pet01 AS T1
                LEFT JOIN pet02 AS T2
                ON T1.Id = T2.Id
                WHERE T1.Pet = "Dog"
                AND T2.Age IN(10, 8)
                ORDER BY T1.Id
                """

# Run SQL-query and get data 
data = pd.read_sql(sql_query, con=conn)
print(data)

# Close connection
conn.close()

# Explanation:
# The data frames df1 und df2 are first created
# conn = sqlite3.connect("pets.db") creates a SQLite data base
# to_sql ist used to write the data to the data base
# sql_query contains the SQL-query which:
# joins the two tables pet01 (T1) and pet02 (T2) 
# WHERE T1.Pet = "Dog" AND T2.Age IN(10, 8) means only dogs aged 10 or 8
# ORDER BY T1.Id means order results by Id
# data = pd.read_sql(sql_query, con=conn) makes the query and reads the result
# conn.close() closes the data base connection








# Solution
var = 75 / 25 * 4
if var > 0 and var < 5:
    print("Result 1")
elif var >= 5 and var < 10:
    print("Result 2")
elif var >= 10 and var < 20:
    print("Result 3")
else:
    print("Result 4")








# Solution
mylist = ['reading','jogging', 'biking']
if 'reading' not in mylist:
    print('No, reading is not in the list.')
elif 'jogging' in mylist:
    print('Yes, jogging is in the list.')
elif 'biking' in mylist:
    print('Yes, biking is in the list.')
elif 'reading' in mylist:
    print('Yes, reading is in the list.')
else:
    print('Non of the hobbies is in the list.')
    
# Note: The text is printed out, as soon one of the condictions is met.








for i in range(20, 100, 5):
    print( i, end='|')
    
# Explanation:
# range(start, stop, step)
# in range(20, 100, 5) 20 = start, 100 = stop not included in the output, 5 = step

# It is important that you understand the behavior of range(), here are some examples:
print('\n') # new line
print(list(range(1,10)))
print(list(range(1,11)))

print(list(range(1,10,1))) # same as above because step=1 is default
print(list(range(1,11,1)))  # same as above because step=1 is default

print(list(range(20,50,2))) # note that the number 50 is not included  

# See also: https://www.w3schools.com/python/ref_func_range.asp





# Solution
numbers = [0, 2, 4, 6, 8, 10, 12, 14, 16, 18, 20]
addition = []
for num in numbers:
    addition.append(num+num)
    print(addition)
    
# Explanation:
# inside the loop, for num in number means 'for each element in numbers' whereas numbers is a list
# inside the loop, the numbers are added one by one using num+num and the result is stored in the list 'addition'.
# The print function is called inside the loop showing how the list increases in each iteration.
# If print(addition) would be called outside the list, ist would only show the final list 'addition'.








# Use of break statement inside the loop
for val in [1,2,3,4,5,6]:
    if val == 4:
        continue
    print(val)

print("The end")

# Explanation:
# The break statement terminates the iteration
# Because break is used before the print() function, val == 6 is printed out but not val == 7.








# Solution
def plist(mylist):
    
    mylist_sq = []
    for i in mylist:
        mylist_sq.append(i**2)
    return(mylist_sq)

# Now you can call changeme function
mylist = [10,20,30]
plist(mylist)

# Explanation: this function returns a list with the squared value of each element of the input-list








class Employee:
    
    def __init__(self, a, b):
        self.a = a
        self.b = b

# Intantiate an object from the class
emp = Employee(10,20)
print(emp.a, emp.b)

# Note: the correct way to intantiate an object from this class is emp = Employee(10,20)





#### Solution:
class Employee:
      
    def __init__(self):
        self.value = 500
          
    def show(self):
        print(self.value)
        
    def div(self):
        print(self.value / 4)

class Department(Employee):
      
    def __init__(self):
        self.value = 1000
          
    def show(self):
        print(self.value)
        
# Create an Object from the Department class
obj = Department()

# Calling the methods
obj.show() # the Department .show() method overrides the parents class .show() method
obj.div() # the Employee .div() method is inherited by the Department class











import matplotlib.pyplot as plt
import numpy as np

# Random data (mean, standard deviation, number of obervations)
x = np.random.normal(170, 10, 250)

plt.hist(x, facecolor='orange')
plt.xlim(0,200)
plt.ylim(0,80)
plt.xticks(np.arange(0, 200+1, 50))
plt.yticks(np.arange(0, 80+1, 20))
plt.xlabel('Values')
plt.ylabel('Frequency')
plt.show()

# Answer: all statements have been used in this histogram

# Explanation:
# plt.xlim(0,200) sets the range of the x-axis values to 0 ... 200
# plt.ylim(0,80) sets the range of the y-axis values to 0 ... 80
# plt.xticks(np.arange(0, 200+1, 50)) defines the distance between tick-marks on the x-axis 0 ... 201 by 50
# plt.yticks(np.arange(0, 80+1, 20)) defines the distance between tick-marks on the x-axis 0 ... 81 by 20
# plt.xlabel('Values') is the x-axis label
# plt.ylabel('Frequency') is the y-axis label

# Interpretation of the histogram:
# The values of a histogram are grouped into 'bins' along the x-axis.
# A bin is a value range, e.g. from 0 to 19 is one bin, from 20 to 39 is the second bin, etc.
# The height of each bar represents the number of values in the data set that fall within a particular bin.
# In the histogram below, the number of obervations is 250
# In the histogram below, the bin with the highest number of observations is approx. 170











import matplotlib.pyplot as plt
import numpy as np

fig, axs = plt.subplots(2,3, figsize=(12,8))

# Plot 1 (Lineplot)
x = np.array([0, 1, 2, 3])
y = np.array([3, 8, 1, 10])
axs[0,0].plot(x, y, 'g--')  # 'g--' means green dashed line

# Plot 2 (Scatterplot)
x = np.array([0, 1, 2, 3])
y = np.array([10, 20, 30, 40])
axs[0,1].plot(x, y, 'r+') # 'r+' means red plus signs

# Plot 3 (Histogram)
x = np.random.normal(170, 10, 250)
axs[1,0].hist(x, facecolor='g')

# Plot 4 (Boxplot)
x = np.random.normal(200, 20, 400)
axs[1,1].boxplot(x)

# Plot 5 (Barplot)
langs = ['C', 'C++', 'Java', 'Python', 'PHP']
students = [23,17,35,29,12]
axs[1,2].bar(langs,students, color='darkred')

# Plot 6 (Piechart)
langs = ['C', 'C++', 'Java', 'Python', 'PHP']
students = [23,17,35,29,12]
axs[0,2].pie(students, labels = langs,autopct='%1.1f%%')

plt.show()

# Answer: fig, axs = plt.subplots(2,3, figsize=(8,8)) 
# Explanation: plt.subplots(2,3, ...) creates a subplot with 2 rows and 3 columns (=6 figures in total)

# For plot-styles see also: https://matplotlib.org/2.1.2/api/_as_gen/matplotlib.pyplot.plot.html
# For other examples see: https://www.tutorialspoint.com/matplotlib/index.htm
