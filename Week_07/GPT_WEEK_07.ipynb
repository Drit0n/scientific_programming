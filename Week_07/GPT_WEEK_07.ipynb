{
 "cells": [
  {
   "cell_type": "markdown",
   "metadata": {},
   "source": [
    "SW-07: Prozedurale Programmierung\n",
    "Inhalt:\n",
    "Prinzipien der prozeduralen Programmierung.\n",
    "Erstellung und Verwendung von Funktionen.\n",
    "Modularisierung von Code.\n"
   ]
  },
  {
   "cell_type": "code",
   "execution_count": 1,
   "metadata": {},
   "outputs": [
    {
     "name": "stdout",
     "output_type": "stream",
     "text": [
      "15\n"
     ]
    }
   ],
   "source": [
    "# Definition einer Funktion\n",
    "def addiere(x, y):\n",
    "    return x + y\n",
    "\n",
    "# Aufruf der Funktion\n",
    "ergebnis = addiere(10, 5)\n",
    "print(ergebnis)\n"
   ]
  }
 ],
 "metadata": {
  "kernelspec": {
   "display_name": "base",
   "language": "python",
   "name": "python3"
  },
  "language_info": {
   "codemirror_mode": {
    "name": "ipython",
    "version": 3
   },
   "file_extension": ".py",
   "mimetype": "text/x-python",
   "name": "python",
   "nbconvert_exporter": "python",
   "pygments_lexer": "ipython3",
   "version": "3.11.7"
  }
 },
 "nbformat": 4,
 "nbformat_minor": 2
}
