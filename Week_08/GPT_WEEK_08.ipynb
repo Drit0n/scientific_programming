{
 "cells": [
  {
   "cell_type": "markdown",
   "metadata": {},
   "source": [
    "SW-08: Objektorientierte Programmierung\n",
    "Inhalt:\n",
    "Konzepte der objektorientierten Programmierung (OOP).\n",
    "Klassen, Objekte, Vererbung und Polymorphismus."
   ]
  },
  {
   "cell_type": "code",
   "execution_count": 5,
   "metadata": {},
   "outputs": [
    {
     "name": "stdout",
     "output_type": "stream",
     "text": [
      "Bello sagt: Wuff!\n"
     ]
    }
   ],
   "source": [
    "# Definition einer Klasse\n",
    "class Hund:\n",
    "    def __init__(self, name, alter):\n",
    "        self.name = name\n",
    "        self.alter = alter\n",
    "\n",
    "    def bellen(self):\n",
    "        print(f\"{self.name} sagt: Wuff!\")\n",
    "\n",
    "# Erstellen eines Objekts\n",
    "mein_hund = Hund(\"Bello\", 5)\n",
    "mein_hund.bellen()\n"
   ]
  }
 ],
 "metadata": {
  "kernelspec": {
   "display_name": "base",
   "language": "python",
   "name": "python3"
  },
  "language_info": {
   "codemirror_mode": {
    "name": "ipython",
    "version": 3
   },
   "file_extension": ".py",
   "mimetype": "text/x-python",
   "name": "python",
   "nbconvert_exporter": "python",
   "pygments_lexer": "ipython3",
   "version": "3.11.7"
  }
 },
 "nbformat": 4,
 "nbformat_minor": 2
}
