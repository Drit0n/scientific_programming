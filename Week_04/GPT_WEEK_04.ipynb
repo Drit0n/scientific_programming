{
 "cells": [
  {
   "cell_type": "code",
   "execution_count": null,
   "metadata": {},
   "outputs": [],
   "source": [
    "# Lesen einer Datei\n",
    "with open('input.txt', 'r') as file:\n",
    "    data = file.read()\n",
    "    print(data)\n",
    "\n",
    "# Schreiben in eine Datei\n",
    "with open('output.txt', 'w') as file:\n",
    "    file.write(\"Das ist ein Test.\")\n",
    "\n",
    "# Arbeiten mit CSV-Dateien\n",
    "import csv\n",
    "with open('data.csv', mode='r') as file:\n",
    "    csv_reader = csv.reader(file)\n",
    "    for row in csv_reader:\n",
    "        print(row)\n"
   ]
  }
 ],
 "metadata": {
  "kernelspec": {
   "display_name": "base",
   "language": "python",
   "name": "python3"
  },
  "language_info": {
   "codemirror_mode": {
    "name": "ipython",
    "version": 3
   },
   "file_extension": ".py",
   "mimetype": "text/x-python",
   "name": "python",
   "nbconvert_exporter": "python",
   "pygments_lexer": "ipython3",
   "version": "3.11.7"
  }
 },
 "nbformat": 4,
 "nbformat_minor": 2
}
