{
 "cells": [
  {
   "cell_type": "code",
   "execution_count": 10,
   "metadata": {},
   "outputs": [
    {
     "name": "stdout",
     "output_type": "stream",
     "text": [
      "PDF file created successfully.\n"
     ]
    }
   ],
   "source": [
    "from reportlab.lib.pagesizes import letter\n",
    "from reportlab.pdfgen import canvas\n",
    "from reportlab.lib.units import inch\n",
    "from datetime import datetime\n",
    "\n",
    "def create_pdf():\n",
    "    # Create a new PDF document\n",
    "    c = canvas.Canvas(\"formatted_pdf.pdf\", pagesize=letter)\n",
    "\n",
    "    # Set font and size for the title\n",
    "    c.setFont(\"Helvetica-Bold\", 20)\n",
    "    c.drawCentredString(4.25 * inch, 10.5 * inch, \"Information Letter\")\n",
    "\n",
    "    # Set font and size for the content\n",
    "    c.setFont(\"Helvetica\", 12)\n",
    "\n",
    "    # Add content with date and time format\n",
    "    current_datetime = datetime.now()\n",
    "    formatted_date = current_datetime.strftime(\"%B %d, %Y\")\n",
    "    formatted_time = current_datetime.strftime(\"%I:%M %p\")  # 12-hour format with AM/PM\n",
    "    content = [\n",
    "        \"Dear recipient,\",\n",
    "        \"\",\n",
    "        \"This is to inform you about the latest updates. Please find the details below:\",\n",
    "        \"\",\n",
    "        f\"Date: {formatted_date}\",\n",
    "        f\"Time: {formatted_time}\",\n",
    "        \"\",\n",
    "        \"Best regards,\",\n",
    "        \"Driton\"\n",
    "    ]\n",
    "    \n",
    "    # Define y-coordinate for text\n",
    "    y_coordinate = 9.5 * inch\n",
    "\n",
    "    # Draw each line of content\n",
    "    for line in content:\n",
    "        c.drawString(1 * inch, y_coordinate, line)\n",
    "        y_coordinate -= 0.25 * inch\n",
    "\n",
    "    # Save the PDF document\n",
    "    c.save()\n",
    "\n",
    "    print(\"PDF file created successfully.\")\n",
    "\n",
    "create_pdf()\n"
   ]
  }
 ],
 "metadata": {
  "kernelspec": {
   "display_name": "base",
   "language": "python",
   "name": "python3"
  },
  "language_info": {
   "codemirror_mode": {
    "name": "ipython",
    "version": 3
   },
   "file_extension": ".py",
   "mimetype": "text/x-python",
   "name": "python",
   "nbconvert_exporter": "python",
   "pygments_lexer": "ipython3",
   "version": "3.11.7"
  }
 },
 "nbformat": 4,
 "nbformat_minor": 2
}
